{
 "cells": [
  {
   "cell_type": "markdown",
   "metadata": {},
   "source": [
    "# Задача 1: сравнение предложений\n",
    "\n",
    "Дан набор предложений, скопированных с Википедии. Каждое из них имеет \"кошачью тему\" в одном из трех смыслов:\n",
    "\n",
    "кошки (животные)\n",
    "UNIX-утилита cat для вывода содержимого файлов\n",
    "версии операционной системы OS X, названные в честь семейства кошачьих\n",
    "Ваша задача — найти два предложения, которые ближе всего по смыслу к расположенному в самой первой строке. В качестве меры близости по смыслу мы будем использовать косинусное расстояние."
   ]
  },
  {
   "cell_type": "markdown",
   "metadata": {},
   "source": [
    "Выполните следующие шаги:\n",
    "\n",
    "1.Скачайте файл с предложениями (sentences.txt).\n",
    "\n",
    "2.Каждая строка в файле соответствует одному предложению. Считайте их, приведите каждую к нижнему регистру с помощью строковой функции lower()."
   ]
  },
  {
   "cell_type": "code",
   "execution_count": 7,
   "metadata": {
    "collapsed": true
   },
   "outputs": [],
   "source": [
    "lines = [line.strip().lower() for line in open('cats.txt')]"
   ]
  },
  {
   "cell_type": "markdown",
   "metadata": {},
   "source": [
    "3.Произведите токенизацию, то есть разбиение текстов на слова. Для этого можно воспользоваться регулярным выражением, которое считает разделителем любой символ, не являющийся буквой: re.split('[^a-z]', t). Не забудьте удалить пустые слова после разделения."
   ]
  },
  {
   "cell_type": "code",
   "execution_count": 13,
   "metadata": {
    "collapsed": true
   },
   "outputs": [],
   "source": [
    "import re"
   ]
  },
  {
   "cell_type": "code",
   "execution_count": 17,
   "metadata": {},
   "outputs": [],
   "source": [
    "lines_words = [filter(None, re.split('[^a-z]', line)) for line in lines] #two dim arr"
   ]
  },
  {
   "cell_type": "markdown",
   "metadata": {},
   "source": [
    "4.Составьте список всех слов, встречающихся в предложениях. Сопоставьте каждому слову индекс от нуля до (d - 1), где d — число различных слов в предложениях. Для этого удобно воспользоваться структурой dict."
   ]
  },
  {
   "cell_type": "code",
   "execution_count": 21,
   "metadata": {
    "collapsed": true
   },
   "outputs": [],
   "source": [
    "words_dict = {}\n",
    "for line in lines_words:\n",
    "    for word in line:\n",
    "        if word not in words_dict:\n",
    "            words_dict[word] = len(words_dict)"
   ]
  },
  {
   "cell_type": "markdown",
   "metadata": {},
   "source": [
    "5.Создайте матрицу размера n x d, где n — число предложений. Заполните ее: элемент с индексом (i, j) в этой матрице должен быть равен количеству вхождений j-го слова в i-е предложение. У вас должна получиться матрица размера 22 * 254."
   ]
  },
  {
   "cell_type": "code",
   "execution_count": 23,
   "metadata": {},
   "outputs": [],
   "source": [
    "import numpy as np"
   ]
  },
  {
   "cell_type": "code",
   "execution_count": 49,
   "metadata": {},
   "outputs": [],
   "source": [
    "word_freq_matrix = np.zeros((len(lines), len(words_dict)))\n",
    "\n",
    "for line_num in range(0, len(lines_words)):\n",
    "    for word in lines_words[line_num]:\n",
    "        word_freq_matrix[line_num][words_dict[word]] += 1"
   ]
  },
  {
   "cell_type": "markdown",
   "metadata": {},
   "source": [
    "6.Найдите косинусное расстояние от предложения в самой первой строке (In comparison to dogs, cats have not undergone...) до всех остальных с помощью функции scipy.spatial.distance.cosine. Какие номера у двух предложений, ближайших к нему по этому расстоянию (строки нумеруются с нуля)? Эти два числа и будут ответами на задание. Само предложение (In comparison to dogs, cats have not undergone... ) имеет индекс 0."
   ]
  },
  {
   "cell_type": "code",
   "execution_count": 56,
   "metadata": {},
   "outputs": [],
   "source": [
    "import scipy.spatial"
   ]
  },
  {
   "cell_type": "code",
   "execution_count": 60,
   "metadata": {},
   "outputs": [],
   "source": [
    "distances =  [scipy.spatial.distance.cosine(word_freq_matrix[0], word_freq) for word_freq in word_freq_matrix]"
   ]
  },
  {
   "cell_type": "code",
   "execution_count": 61,
   "metadata": {},
   "outputs": [],
   "source": [
    "dist_with_index = [(distances[i], i) for i in range(0, len(distances))]"
   ]
  },
  {
   "cell_type": "code",
   "execution_count": 62,
   "metadata": {},
   "outputs": [
    {
     "data": {
      "text/plain": [
       "[(0.0, 0),\n",
       " (0.95275444087384664, 1),\n",
       " (0.86447381456421235, 2),\n",
       " (0.89517151632780823, 3),\n",
       " (0.77708871496985887, 4),\n",
       " (0.94023856953328033, 5),\n",
       " (0.7327387580875756, 6),\n",
       " (0.92587506833388988, 7),\n",
       " (0.88427248752843102, 8),\n",
       " (0.90550888174769317, 9),\n",
       " (0.83281653622739416, 10),\n",
       " (0.88047713906656067, 11),\n",
       " (0.83964325485254543, 12),\n",
       " (0.87035925528956715, 13),\n",
       " (0.87401184233025764, 14),\n",
       " (0.94427217874246472, 15),\n",
       " (0.84063618542208085, 16),\n",
       " (0.95664450152379399, 17),\n",
       " (0.94427217874246472, 18),\n",
       " (0.88854435748492944, 19),\n",
       " (0.84275727449171223, 20),\n",
       " (0.82503644694405864, 21)]"
      ]
     },
     "execution_count": 62,
     "metadata": {},
     "output_type": "execute_result"
    }
   ],
   "source": [
    "dist_with_index"
   ]
  },
  {
   "cell_type": "code",
   "execution_count": 63,
   "metadata": {
    "collapsed": true
   },
   "outputs": [],
   "source": [
    "sorted_by_distance = sorted(dist_with_index, key=lambda tup: tup[0])"
   ]
  },
  {
   "cell_type": "code",
   "execution_count": 64,
   "metadata": {},
   "outputs": [
    {
     "data": {
      "text/plain": [
       "[(0.0, 0),\n",
       " (0.7327387580875756, 6),\n",
       " (0.77708871496985887, 4),\n",
       " (0.82503644694405864, 21),\n",
       " (0.83281653622739416, 10),\n",
       " (0.83964325485254543, 12),\n",
       " (0.84063618542208085, 16),\n",
       " (0.84275727449171223, 20),\n",
       " (0.86447381456421235, 2),\n",
       " (0.87035925528956715, 13),\n",
       " (0.87401184233025764, 14),\n",
       " (0.88047713906656067, 11),\n",
       " (0.88427248752843102, 8),\n",
       " (0.88854435748492944, 19),\n",
       " (0.89517151632780823, 3),\n",
       " (0.90550888174769317, 9),\n",
       " (0.92587506833388988, 7),\n",
       " (0.94023856953328033, 5),\n",
       " (0.94427217874246472, 15),\n",
       " (0.94427217874246472, 18),\n",
       " (0.95275444087384664, 1),\n",
       " (0.95664450152379399, 17)]"
      ]
     },
     "execution_count": 64,
     "metadata": {},
     "output_type": "execute_result"
    }
   ],
   "source": [
    "sorted_by_distance"
   ]
  },
  {
   "cell_type": "code",
   "execution_count": null,
   "metadata": {
    "collapsed": true
   },
   "outputs": [],
   "source": []
  }
 ],
 "metadata": {
  "kernelspec": {
   "display_name": "Python 2",
   "language": "python",
   "name": "python2"
  },
  "language_info": {
   "codemirror_mode": {
    "name": "ipython",
    "version": 2
   },
   "file_extension": ".py",
   "mimetype": "text/x-python",
   "name": "python",
   "nbconvert_exporter": "python",
   "pygments_lexer": "ipython2",
   "version": "2.7.14"
  }
 },
 "nbformat": 4,
 "nbformat_minor": 2
}
