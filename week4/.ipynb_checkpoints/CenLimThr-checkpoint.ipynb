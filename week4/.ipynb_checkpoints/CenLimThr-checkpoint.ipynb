{
 "cells": [
  {
   "cell_type": "markdown",
   "metadata": {},
   "source": [
    "# ЦПТ своими руками"
   ]
  },
  {
   "cell_type": "markdown",
   "metadata": {},
   "source": [
    "Выберите ваше любимое непрерывное распределение (чем меньше оно будет похоже на нормальное, тем интереснее; попробуйте выбрать какое-нибудь распределение из тех, что мы не обсуждали в курсе). Сгенерируйте из него выборку объёма 1000, постройте гистограмму выборки и нарисуйте поверх неё теоретическую плотность распределения вашей случайной величины (чтобы величины были в одном масштабе, не забудьте выставить у гистограммы значение параметра normed=True).\n",
    "\n",
    "Ваша задача — оценить распределение выборочного среднего вашей случайной величины при разных объёмах выборок. Для этого при трёх и более значениях n (например, 5, 10, 50) сгенерируйте 1000 выборок объёма n и постройте гистограммы распределений их выборочных средних. Используя информацию о среднем и дисперсии исходного распределения (её можно без труда найти в википедии), посчитайте значения параметров нормальных распределений, которыми, согласно центральной предельной теореме, приближается распределение выборочных средних. Обратите внимание: для подсчёта значений этих параметров нужно использовать именно теоретические среднее и дисперсию вашей случайной величины, а не их выборочные оценки. Поверх каждой гистограммы нарисуйте плотность соответствующего нормального распределения (будьте внимательны с параметрами функции, она принимает на вход не дисперсию, а стандартное отклонение).\n",
    "\n",
    "Опишите разницу между полученными распределениями при различных значениях n. Как меняется точность аппроксимации распределения выборочных средних нормальным с ростом n?\n",
    "\n"
   ]
  },
  {
   "cell_type": "markdown",
   "metadata": {},
   "source": [
    "Я решила выбрать гамма-распределение,  ссылка на Википедию \n",
    "https://ru.wikipedia.org/wiki/%D0%93%D0%B0%D0%BC%D0%BC%D0%B0-%D1%80%D0%B0%D1%81%D0%BF%D1%80%D0%B5%D0%B4%D0%B5%D0%BB%D0%B5%D0%BD%D0%B8%D0%B5"
   ]
  },
  {
   "cell_type": "markdown",
   "metadata": {},
   "source": [
    "Необходимые сведения:\n",
    "\n",
    "плотность вероятности гамма-распределения\n",
    "    \\\\[f_X(x) = \\begin{cases}\n",
    "        x^{k-1} \\frac{e^{-x/\\theta}}{\\theta^k \\Gamma(k)}, \\: x \\geqslant 0  \\\\\n",
    "        0, \\: x < 0\n",
    "    \\end{cases} \\\\]\n",
    "    \n",
    "   матожидание и дисперсия равны соответственно\n",
    "    \\\\[ E[X] = k \\theta \\\\]\n",
    "    \\\\[ D[X] = k \\theta^2 \\\\]\n",
    "В Python параметр $\\theta$ принимается равным 1 и плотность принимает вид\n",
    "    \\\\[f(x,a)=\\frac{x^{a-1} \\cdot e^{-x}}{\\Gamma(a)},    x  \\geqslant 0,  a>0 . \\\\] \n",
    "    \n",
    "    "
   ]
  },
  {
   "cell_type": "code",
   "execution_count": 3,
   "metadata": {
    "collapsed": true
   },
   "outputs": [],
   "source": [
    "import pandas as pd\n",
    "import numpy as np\n",
    "import math\n",
    "import matplotlib.pyplot as plt\n",
    "import scipy.stats as sts\n",
    "from scipy.stats import gamma\n",
    "%matplotlib inline"
   ]
  },
  {
   "cell_type": "code",
   "execution_count": 4,
   "metadata": {},
   "outputs": [],
   "source": [
    "#зададим параметр распределения\n",
    "a = 2\n",
    "\n",
    "#наше распределение\n",
    "g_dist = gamma(a)\n",
    "\n",
    "#сгенерируем выборку объёма 1000\n",
    "g_sample = gamma.rvs(a, size=1000)\n"
   ]
  },
  {
   "cell_type": "code",
   "execution_count": 5,
   "metadata": {},
   "outputs": [
    {
     "data": {
      "text/plain": [
       "Text(0.5,1,u'Gamma')"
      ]
     },
     "execution_count": 5,
     "metadata": {},
     "output_type": "execute_result"
    },
    {
     "data": {
      "image/png": "[encoded data removed]",
      "text/plain": [
       "<matplotlib.figure.Figure at 0xc2232b0>"
      ]
     },
     "metadata": {},
     "output_type": "display_data"
    }
   ],
   "source": [
    "#построим теоретическую плотность распределения\n",
    "x = np.linspace(0,10,100)\n",
    "pdf = g_dist.pdf(x)\n",
    "plt.plot(x, pdf, label='theoretical PDF')\n",
    "\n",
    "#построим гистограмму по выборке\n",
    "plt.hist(g_sample, normed=True, label = 'histogram')\n",
    "\n",
    "plt.ylabel('$f(x)$')\n",
    "plt.xlabel('$x$')\n",
    "plt.legend(loc='upper right')\n",
    "plt.title('Gamma')"
   ]
  },
  {
   "cell_type": "markdown",
   "metadata": {},
   "source": [
    "Будем генерировать 1000 выборок объема n, в каждой выборке считать выборочное среднее, потом построим гистограмму их распределения (их - выборочных средних). Предварительно посчитаем матожидание и среднеквадратическое отклонение для того нормального распределения, которое, согласно ЦПТ, должно аппроксимировать распределение наших выборочных средних.\n",
    "Выполним для n = 5, 10, 50\n"
   ]
  },
  {
   "cell_type": "code",
   "execution_count": 6,
   "metadata": {
    "collapsed": true
   },
   "outputs": [],
   "source": [
    "# зададим n\n",
    "n = 5"
   ]
  },
  {
   "cell_type": "code",
   "execution_count": 7,
   "metadata": {},
   "outputs": [
    {
     "name": "stdout",
     "output_type": "stream",
     "text": [
      "5 2 0.0\n"
     ]
    }
   ],
   "source": [
    "# матожидание и дисперсия гамма-распределения равны параметру распределения а\n",
    "# посчитаем для  текущего n параметры mu  и sigma аппроксимирующего нормального распределения\n",
    "mu = a\n",
    "sigma = math.sqrt(a/n)\n",
    "\n",
    "print n, mu, sigma"
   ]
  },
  {
   "cell_type": "code",
   "execution_count": 8,
   "metadata": {
    "collapsed": true
   },
   "outputs": [],
   "source": [
    "# генерируем 1000 выборок объема n и в каждой выборке считаем выборочное среднее, записываем его\n",
    "\n",
    "#будущий массив выборочных средних\n",
    "mean = np.zeros(1000)   \n",
    "\n",
    "for i in range(999):\n",
    "    # выборка длины n\n",
    "    n_sample = gamma.rvs(a, size=n)\n",
    "    # сделаем из нее np.array\n",
    "    n_sample = np.array(n_sample)\n",
    "    mean[i] = n_sample.sum() / n\n",
    "    \n",
    "    "
   ]
  },
  {
   "cell_type": "code",
   "execution_count": 9,
   "metadata": {
    "collapsed": true
   },
   "outputs": [],
   "source": [
    "# поскольку мы ожидаем, что будем смотреть на плотность нормального распределения, то поменяем область определения\n",
    "x_n = np.linspace(0,4,100)"
   ]
  },
  {
   "cell_type": "code",
   "execution_count": 10,
   "metadata": {},
   "outputs": [
    {
     "name": "stderr",
     "output_type": "stream",
     "text": [
      "D:\\Programs\\Anaconda\\lib\\site-packages\\scipy\\stats\\_distn_infrastructure.py:1649: RuntimeWarning: divide by zero encountered in true_divide\n",
      "  x = np.asarray((x - loc)/scale, dtype=dtyp)\n"
     ]
    },
    {
     "data": {
      "text/plain": [
       "Text(0.5,1,u'n = 5')"
      ]
     },
     "execution_count": 10,
     "metadata": {},
     "output_type": "execute_result"
    },
    {
     "data": {
      "image/png": "[encoded data removed]",
      "text/plain": [
       "<matplotlib.figure.Figure at 0xc35eb70>"
      ]
     },
     "metadata": {},
     "output_type": "display_data"
    }
   ],
   "source": [
    "# зададим аппроксимирующее нормальное распределение, построим график плотности\n",
    "norm_rv = sts.norm(loc=mu, scale=sigma)\n",
    "pdf = norm_rv.pdf(x_n)\n",
    "plt.plot(x_n, pdf, label='theor norm PDF')\n",
    "\n",
    "# построим гистограмму выборочных средних\n",
    "plt.hist(mean, normed=True, label = 'mean histogram')\n",
    "\n",
    "plt.ylabel('$f(x)$')\n",
    "plt.xlabel('$x$')\n",
    "plt.legend(loc='upper right')\n",
    "plt.title('n = 5')"
   ]
  },
  {
   "cell_type": "markdown",
   "metadata": {},
   "source": [
    "Отлично! Повторяем для n = 10"
   ]
  },
  {
   "cell_type": "code",
   "execution_count": 11,
   "metadata": {},
   "outputs": [
    {
     "data": {
      "text/plain": [
       "Text(0.5,1,u'n = 10')"
      ]
     },
     "execution_count": 11,
     "metadata": {},
     "output_type": "execute_result"
    },
    {
     "data": {
      "image/png": "[encoded data removed]",
      "text/plain": [
       "<matplotlib.figure.Figure at 0xc35eac8>"
      ]
     },
     "metadata": {},
     "output_type": "display_data"
    }
   ],
   "source": [
    "# зададим n\n",
    "n = 10\n",
    "\n",
    "# поскольку мы ожидаем, что будем смотреть на плотность нормального распределения, то поменяем область определения\n",
    "x_n = np.linspace(0,4,100)\n",
    "\n",
    "# матожидание и дисперсия гамма-распределения равны параметру распределения а\n",
    "# посчитаем для  текущего n параметры mu  и sigma аппроксимирующего нормального распределения\n",
    "mu = a\n",
    "sigma = math.sqrt(a/n)\n",
    "\n",
    "# генерируем 1000 выборок объема n и в каждой выборке считаем выборочное среднее, записываем его\n",
    "\n",
    "#будущий массив выборочных средних\n",
    "mean = np.zeros(1000)   \n",
    "\n",
    "for i in range(999):\n",
    "    # выборка длины n\n",
    "    n_sample = gamma.rvs(a, size=n)\n",
    "    # сделаем из нее np.array\n",
    "    n_sample = np.array(n_sample)\n",
    "    mean[i] = n_sample.sum() / n\n",
    "\n",
    "# зададим аппроксимирующее нормальное распределение, построим график плотности\n",
    "norm_rv = sts.norm(loc=mu, scale=sigma)\n",
    "pdf = norm_rv.pdf(x_n)\n",
    "plt.plot(x_n, pdf, label='theor norm PDF')\n",
    "\n",
    "# построим гистограмму выборочных средних\n",
    "plt.hist(mean, bins = 30, normed=True, label = 'mean histogram')\n",
    "\n",
    "plt.ylabel('$f(x)$')\n",
    "plt.xlabel('$x$')\n",
    "plt.legend(loc='upper right')\n",
    "plt.title('n = 10')"
   ]
  },
  {
   "cell_type": "markdown",
   "metadata": {},
   "source": [
    "Eщё лучше! Повторим для n = 50"
   ]
  },
  {
   "cell_type": "code",
   "execution_count": 12,
   "metadata": {},
   "outputs": [
    {
     "data": {
      "text/plain": [
       "Text(0.5,1,u'n = 50')"
      ]
     },
     "execution_count": 12,
     "metadata": {},
     "output_type": "execute_result"
    },
    {
     "data": {
      "image/png": "[encoded data removed]",
      "text/plain": [
       "<matplotlib.figure.Figure at 0xd66f668>"
      ]
     },
     "metadata": {},
     "output_type": "display_data"
    }
   ],
   "source": [
    "# зададим n\n",
    "n = 50\n",
    "\n",
    "# поскольку мы ожидаем, что будем смотреть на плотность нормального распределения, то поменяем область определения\n",
    "x_n = np.linspace(1,3,100)\n",
    "\n",
    "# матожидание и дисперсия гамма-распределения равны параметру распределения а\n",
    "# посчитаем для  текущего n параметры mu  и sigma аппроксимирующего нормального распределения\n",
    "mu = a\n",
    "sigma = math.sqrt(a/n)\n",
    "\n",
    "# генерируем 1000 выборок объема n и в каждой выборке считаем выборочное среднее, записываем его\n",
    "\n",
    "#будущий массив выборочных средних\n",
    "mean = np.zeros(1000)   \n",
    "\n",
    "for i in range(999):\n",
    "    # выборка длины n\n",
    "    n_sample = gamma.rvs(a, size=n)\n",
    "    # сделаем из нее np.array\n",
    "    n_sample = np.array(n_sample)\n",
    "    mean[i] = n_sample.sum() / n\n",
    "\n",
    "# зададим аппроксимирующее нормальное распределение, построим график плотности\n",
    "norm_rv = sts.norm(loc=mu, scale=sigma)\n",
    "pdf = norm_rv.pdf(x_n)\n",
    "plt.plot(x_n, pdf, label='theor norm PDF')\n",
    "\n",
    "# построим гистограмму выборочных средних\n",
    "plt.hist(mean, bins = 40, normed=True, label = 'mean histogram')\n",
    "\n",
    "plt.ylabel('$f(x)$')\n",
    "plt.xlabel('$x$')\n",
    "plt.legend(loc='upper right')\n",
    "plt.title('n = 50')"
   ]
  },
  {
   "cell_type": "markdown",
   "metadata": {},
   "source": [
    "Поскольку уж очень интересно, посмотрим на точность при n = 200"
   ]
  },
  {
   "cell_type": "code",
   "execution_count": 13,
   "metadata": {},
   "outputs": [
    {
     "data": {
      "text/plain": [
       "Text(0.5,1,u'n = 200')"
      ]
     },
     "execution_count": 13,
     "metadata": {},
     "output_type": "execute_result"
    },
    {
     "data": {
      "image/png": "[encoded data removed]",
      "text/plain": [
       "<matplotlib.figure.Figure at 0x647c6a0>"
      ]
     },
     "metadata": {},
     "output_type": "display_data"
    }
   ],
   "source": [
    "# зададим n\n",
    "n = 200\n",
    "\n",
    "# поскольку мы ожидаем, что будем смотреть на плотность нормального распределения, то поменяем область определения\n",
    "x_n = np.linspace(1.5, 2.5, 100)\n",
    "\n",
    "# матожидание и дисперсия гамма-распределения равны параметру распределения а\n",
    "# посчитаем для  текущего n параметры mu  и sigma аппроксимирующего нормального распределения\n",
    "mu = a\n",
    "sigma = math.sqrt(a/n)\n",
    "\n",
    "# генерируем 1000 выборок объема n и в каждой выборке считаем выборочное среднее, записываем его\n",
    "\n",
    "#будущий массив выборочных средних\n",
    "mean = np.zeros(1000)   \n",
    "\n",
    "for i in range(999):\n",
    "    # выборка длины n\n",
    "    n_sample = gamma.rvs(a, size=n)\n",
    "    # сделаем из нее np.array\n",
    "    n_sample = np.array(n_sample)\n",
    "    mean[i] = n_sample.sum() / n\n",
    "\n",
    "# зададим аппроксимирующее нормальное распределение, построим график плотности\n",
    "norm_rv = sts.norm(loc=mu, scale=sigma)\n",
    "pdf = norm_rv.pdf(x_n)\n",
    "plt.plot(x_n, pdf, label='theor norm PDF')\n",
    "\n",
    "# построим гистограмму выборочных средних\n",
    "plt.hist(mean, bins = 70, normed=True, label = 'mean histogram')\n",
    "\n",
    "plt.ylabel('$f(x)$')\n",
    "plt.xlabel('$x$')\n",
    "plt.legend(loc='upper left')\n",
    "plt.title('n = 200')"
   ]
  },
  {
   "cell_type": "markdown",
   "metadata": {},
   "source": [
    "Итого, вполне можем сделать вывод о том,  что ЦПТ работает и точность ее аппроксимации улучшается с ростом n. Ура!"
   ]
  },
  {
   "cell_type": "code",
   "execution_count": null,
   "metadata": {
    "collapsed": true
   },
   "outputs": [],
   "source": []
  },
  {
   "cell_type": "code",
   "execution_count": null,
   "metadata": {
    "collapsed": true
   },
   "outputs": [],
   "source": []
  }
 ],
 "metadata": {
  "kernelspec": {
   "display_name": "Python 2",
   "language": "python",
   "name": "python2"
  },
  "language_info": {
   "codemirror_mode": {
    "name": "ipython",
    "version": 2
   },
   "file_extension": ".py",
   "mimetype": "text/x-python",
   "name": "python",
   "nbconvert_exporter": "python",
   "pygments_lexer": "ipython2",
   "version": "2.7.14"
  }
 },
 "nbformat": 4,
 "nbformat_minor": 2
}
